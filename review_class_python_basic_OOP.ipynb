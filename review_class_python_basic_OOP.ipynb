{
 "cells": [
  {
   "cell_type": "markdown",
   "metadata": {},
   "source": [
    "#### Required Software and Programs\n",
    "##### IDE: Visual Studio Code.   \n",
    "##### Interpreter: Python Interpreter.  \n",
    "##### Python Extension (for Visual Studio Code).  "
   ]
  },
  {
   "cell_type": "markdown",
   "metadata": {},
   "source": [
    "##### Class and Object"
   ]
  },
  {
   "cell_type": "code",
   "execution_count": 23,
   "metadata": {},
   "outputs": [],
   "source": [
    "'''Class variable, Constructor, Instance variable'''\n",
    "\n",
    "class Person:\n",
    "    # name = 'Rahim' # class variable\n",
    "    def __init__(self, name, age):\n",
    "        self.name = name # instance variable\n",
    "        self.age = age\n",
    "\n",
    "    def display(self):\n",
    "        print(\"Name: \", self.name)\n",
    "    "
   ]
  },
  {
   "cell_type": "code",
   "execution_count": null,
   "metadata": {},
   "outputs": [],
   "source": [
    "person_1 = Person('Rahim', 21)\n",
    "person_1.display()"
   ]
  },
  {
   "cell_type": "markdown",
   "metadata": {},
   "source": [
    "##### Inheritance"
   ]
  },
  {
   "cell_type": "code",
   "execution_count": 25,
   "metadata": {},
   "outputs": [],
   "source": [
    "'''\n",
    "Creation of new classes based on existing ones. The new class will inherit the properties and behaviors of the existing one. \n",
    "'''\n",
    "class Student(Person):\n",
    "    def __init__(self, name, age, reg):\n",
    "        Person.__init__(self, name, age)\n",
    "        self.reg = reg\n",
    "    \n",
    "    # def display(self):\n",
    "    #     print(\"Name: \", self.name)"
   ]
  },
  {
   "cell_type": "code",
   "execution_count": null,
   "metadata": {},
   "outputs": [],
   "source": [
    "student_1 = Student('Karim', 21, 123)\n",
    "student_1.display()"
   ]
  },
  {
   "cell_type": "markdown",
   "metadata": {},
   "source": [
    "##### Polymorphism"
   ]
  },
  {
   "cell_type": "code",
   "execution_count": null,
   "metadata": {},
   "outputs": [],
   "source": [
    "'''Polymorphism through built-in function: len()'''\n",
    "print(len(\"qwe\"))\n",
    "print(len([1, 2, 3, 4]))"
   ]
  },
  {
   "cell_type": "code",
   "execution_count": 29,
   "metadata": {},
   "outputs": [],
   "source": [
    "'''Polymorphism through method overloading'''\n",
    "class Student(Person):\n",
    "    def __init__(self, name, age, reg):\n",
    "        Person.__init__(self, name, age)\n",
    "        self.reg = reg\n",
    "    \n",
    "    def display(self):\n",
    "       print(\"Reg.: \", self.reg)"
   ]
  },
  {
   "cell_type": "code",
   "execution_count": null,
   "metadata": {},
   "outputs": [],
   "source": [
    "person_1 = Person('Rahim', 21)\n",
    "student_1 = Student('Rahim', 21, 123)\n",
    "\n",
    "person_1.display()\n",
    "student_1.display()"
   ]
  },
  {
   "cell_type": "markdown",
   "metadata": {},
   "source": [
    "##### Encapsulation"
   ]
  },
  {
   "cell_type": "code",
   "execution_count": null,
   "metadata": {},
   "outputs": [],
   "source": [
    "'''\n",
    "Encapsulation is a way to protect the internal details of an object by restricting direct access to its data. \n",
    "It ensures that the data can only be modified through controlled methods.\n",
    "'''"
   ]
  },
  {
   "cell_type": "code",
   "execution_count": null,
   "metadata": {},
   "outputs": [],
   "source": [
    "'''Private, Protected, and Public Member'''\n",
    "\n",
    "class Student(Person):\n",
    "    def __init__(self, name, age, reg):\n",
    "        Person.__init__(self, name, age)\n",
    "        self.__reg = reg\n",
    "    \n",
    "    def getReg(self):\n",
    "        return self.__reg\n",
    "    \n",
    "    def setReg(self, newReg):\n",
    "        self.__reg = newReg\n",
    "    \n",
    "student_1 = Student(\"Rahim\", 21, 123)\n",
    "print(student_1.setReg(234))\n",
    "print(student_1.getReg())"
   ]
  },
  {
   "cell_type": "code",
   "execution_count": null,
   "metadata": {},
   "outputs": [],
   "source": [
    "'''Encapsulation through getter, setter, and Private Member'''"
   ]
  },
  {
   "cell_type": "markdown",
   "metadata": {},
   "source": [
    "##### Data Abstraction"
   ]
  },
  {
   "cell_type": "code",
   "execution_count": 36,
   "metadata": {},
   "outputs": [],
   "source": [
    "from abc import ABC, abstractmethod\n",
    "\n",
    "# Abstract class\n",
    "class Shape(ABC):\n",
    "    \n",
    "    @abstractmethod\n",
    "    def area(self):\n",
    "        pass\n",
    "    \n",
    "    @abstractmethod\n",
    "    def perimeter(self):\n",
    "        pass\n",
    "\n",
    "# Concrete class\n",
    "class Circle(Shape):\n",
    "    def __init__(self, radius):\n",
    "        self.radius = radius\n",
    "    \n",
    "    # Implementing abstract methods\n",
    "    def area(self):\n",
    "        return 3.14 * self.radius ** 2\n",
    "    \n",
    "    def perimeter(self):\n",
    "        return 2 * 3.14 * self.radius"
   ]
  },
  {
   "cell_type": "code",
   "execution_count": null,
   "metadata": {},
   "outputs": [],
   "source": [
    "'''\n",
    "Data abstraction is the concept of hiding complex details and showing only the essential features of an object. \n",
    "It allows users to interact with an object through simple interfaces without needing to understand the inner workings.\n",
    "'''\n",
    "\n",
    "# Using abstraction\n",
    "circle = Circle(5)\n",
    "print(\"Area:\", circle.area())        # Only essential detail (area)\n",
    "print(\"Perimeter:\", circle.perimeter())  # Only essential detail (perimeter)\n"
   ]
  }
 ],
 "metadata": {
  "kernelspec": {
   "display_name": ".venv",
   "language": "python",
   "name": "python3"
  },
  "language_info": {
   "codemirror_mode": {
    "name": "ipython",
    "version": 3
   },
   "file_extension": ".py",
   "mimetype": "text/x-python",
   "name": "python",
   "nbconvert_exporter": "python",
   "pygments_lexer": "ipython3",
   "version": "3.12.3"
  }
 },
 "nbformat": 4,
 "nbformat_minor": 2
}
