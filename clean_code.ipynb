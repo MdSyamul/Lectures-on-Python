{
 "cells": [
  {
   "cell_type": "markdown",
   "metadata": {},
   "source": [
    "### 1. Meaningful Name  \n",
    "Choose names for variables, functions, classes, and modules that are descriptive, accurate, and clear."
   ]
  },
  {
   "cell_type": "markdown",
   "metadata": {},
   "source": [
    "- Be Descriptive"
   ]
  },
  {
   "cell_type": "code",
   "execution_count": null,
   "metadata": {},
   "outputs": [],
   "source": [
    "'''Bad Example'''\n",
    "\n",
    "\n",
    "def c(a, b):\n",
    "    return a + b"
   ]
  },
  {
   "cell_type": "code",
   "execution_count": null,
   "metadata": {},
   "outputs": [],
   "source": [
    "'''Good Example'''\n",
    "\n",
    "\n",
    "def calculate_total(price, tax):\n",
    "    return price + tax"
   ]
  },
  {
   "cell_type": "markdown",
   "metadata": {},
   "source": [
    "- Avoid Abbreviations"
   ]
  },
  {
   "cell_type": "code",
   "execution_count": null,
   "metadata": {},
   "outputs": [],
   "source": [
    "employee_name = 'Rahim'\n",
    "e_n = 'Rahim'"
   ]
  },
  {
   "cell_type": "markdown",
   "metadata": {},
   "source": [
    "- Use Consistent Naming Convention: snake case for variables and functions"
   ]
  },
  {
   "cell_type": "code",
   "execution_count": null,
   "metadata": {},
   "outputs": [],
   "source": [
    "employee_name = 'Rahim'\n",
    "\n",
    "\n",
    "def calculate_total(price, tax):\n",
    "    return price + tax"
   ]
  },
  {
   "cell_type": "markdown",
   "metadata": {},
   "source": [
    "- Use Consistent Naming Convention: Pascal case for classes"
   ]
  },
  {
   "cell_type": "code",
   "execution_count": null,
   "metadata": {},
   "outputs": [],
   "source": [
    "class BankAccount:\n",
    "    def __init__(self, name, account_id):\n",
    "        self.name = name # instance variable\n",
    "        self.account_id = account_id\n",
    "\n",
    "    def display(self):\n",
    "        print(\"Name: \", self.name)"
   ]
  },
  {
   "cell_type": "markdown",
   "metadata": {},
   "source": [
    "- For boolean data types: \"is\", \"has\", \"can\", or \"should\" +  word"
   ]
  },
  {
   "cell_type": "code",
   "execution_count": null,
   "metadata": {},
   "outputs": [],
   "source": [
    "'''isValid: represents whether a condition is true or false.'''\n",
    "isValid = False\n",
    "\n",
    "'''hasPermission: represents whether a user has permission to perform an action.'''\n",
    "hasPermission = True\n",
    "\n",
    "'''canAccess: represents whether a user can access a certain resource.'''\n",
    "canAccess = True\n",
    "\n",
    "'''shouldDisplay: represents whether a certain element should be displayed to the user.'''\n",
    "shouldDisplay = False"
   ]
  },
  {
   "cell_type": "markdown",
   "metadata": {},
   "source": [
    "### 2. Functions Should Do One Thing"
   ]
  },
  {
   "cell_type": "code",
   "execution_count": null,
   "metadata": {},
   "outputs": [],
   "source": [
    "'''Bad Example'''\n",
    "\n",
    "\n",
    "def manage_user(name, password):\n",
    "    # Logic for authentication\n",
    "\n",
    "    # Logic for login\n",
    "\n",
    "    # Logic for Signup\n",
    "    \n",
    "    pass"
   ]
  },
  {
   "cell_type": "code",
   "execution_count": null,
   "metadata": {},
   "outputs": [],
   "source": [
    "'''Good Example'''\n",
    "\n",
    "\n",
    "def authenticate(email, password):\n",
    "   pass\n",
    "\n",
    "def login(email, password):\n",
    "    pass\n",
    "\n",
    "def sign_up(email, password):\n",
    "    pass"
   ]
  },
  {
   "cell_type": "markdown",
   "metadata": {},
   "source": [
    "### 3. Keep Your Code DRY (Don’t Repeat Yourself)"
   ]
  },
  {
   "cell_type": "code",
   "execution_count": null,
   "metadata": {},
   "outputs": [],
   "source": [
    "'''Bad Example'''\n",
    "\n",
    "\n",
    "def login(email, password):\n",
    "    # Authenticate logic\n",
    "\n",
    "    # Logic for login\n",
    "    \n",
    "    pass\n",
    "\n",
    "def sign_up(email, password):\n",
    "    # Authenticate logic\n",
    "\n",
    "    # Logic for signup\n",
    "\n",
    "    pass"
   ]
  },
  {
   "cell_type": "code",
   "execution_count": null,
   "metadata": {},
   "outputs": [],
   "source": [
    "'''Good Example'''\n",
    "\n",
    "\n",
    "def authenticate(email, password):\n",
    "   pass\n",
    "\n",
    "def login(email, password):\n",
    "    authenticate(email, password)\n",
    "\n",
    "    # Logic for login\n",
    "\n",
    "def sign_up(email, password):\n",
    "    authenticate(email, password)\n",
    "\n",
    "    # Logic for signup"
   ]
  },
  {
   "cell_type": "markdown",
   "metadata": {},
   "source": [
    "### 4. Use Docstrings"
   ]
  },
  {
   "cell_type": "code",
   "execution_count": null,
   "metadata": {},
   "outputs": [],
   "source": [
    "'''Bad Example'''\n",
    "\n",
    "\n",
    "def calculate_area(length, width):\n",
    "    return length * width"
   ]
  },
  {
   "cell_type": "code",
   "execution_count": null,
   "metadata": {},
   "outputs": [],
   "source": [
    "'''Good Example'''\n",
    "\n",
    "\n",
    "def calculate_area(length, width):\n",
    "    \"\"\"\n",
    "    Calculate the area of a rectangle.\n",
    "    \n",
    "    Args:\n",
    "        length (float): The length of the rectangle.\n",
    "        width (float): The width of the rectangle.\n",
    "    \n",
    "    Returns:\n",
    "        float: The area of the rectangle.\n",
    "    \"\"\"\n",
    "    return length * width\n"
   ]
  },
  {
   "cell_type": "markdown",
   "metadata": {},
   "source": [
    "### 5. Keep Your Code Modular"
   ]
  },
  {
   "cell_type": "code",
   "execution_count": null,
   "metadata": {},
   "outputs": [],
   "source": [
    "'''Bad Example'''\n",
    "\n",
    "\n",
    "'''One large file with everything'''"
   ]
  },
  {
   "cell_type": "code",
   "execution_count": null,
   "metadata": {},
   "outputs": [],
   "source": [
    "'''Good Example'''\n",
    "\n",
    "\n",
    "'''/project\n",
    "    /controllers\n",
    "        user_controller.py\n",
    "    /models\n",
    "        user_model.py\n",
    "    /views\n",
    "        user_view.py\n",
    "'''"
   ]
  },
  {
   "cell_type": "markdown",
   "metadata": {},
   "source": [
    "### 6. SOLID Principle"
   ]
  },
  {
   "cell_type": "markdown",
   "metadata": {},
   "source": [
    "- Single Responsibility Principle  "
   ]
  },
  {
   "cell_type": "markdown",
   "metadata": {},
   "source": [
    "Each class should have one, and only one, responsibility. This means that a class should only do one thing, making it easier to maintain."
   ]
  },
  {
   "cell_type": "code",
   "execution_count": null,
   "metadata": {},
   "outputs": [],
   "source": [
    "'''Bad Example: A class does too many things'''\n",
    "\n",
    "\n",
    "class Employee:\n",
    "    def calculate_salary(self):\n",
    "        # Implement the logic to calculate the employee's salary\n",
    "        pass\n",
    "\n",
    "    def save_to_database(self):\n",
    "        # Save employee details to the database\n",
    "        pass\n",
    "\n",
    "    def fetch_from_database(self):\n",
    "        # Retrieve employee details from the database\n",
    "        pass\n"
   ]
  },
  {
   "cell_type": "code",
   "execution_count": null,
   "metadata": {},
   "outputs": [],
   "source": [
    "'''Bad Example: A class does too many things'''\n",
    "\n",
    "\n",
    "class Manager:\n",
    "    def calculate_salary(self):\n",
    "        # Implement the logic to calculate the employee's salary\n",
    "        pass\n",
    "    \n",
    "    def assign_task(self, employee_id, task):\n",
    "        # Assign a task to an employee\n",
    "        pass\n",
    "\n",
    "    def save_to_database(self):\n",
    "        # Save employee details to the database\n",
    "        pass\n",
    "\n",
    "    def fetch_from_database(self):\n",
    "        # Retrieve employee details from the database\n",
    "        pass\n"
   ]
  },
  {
   "cell_type": "code",
   "execution_count": null,
   "metadata": {},
   "outputs": [],
   "source": [
    "'''Good Example: Each class has one responsibility'''\n",
    "\n",
    "\n",
    "class Employee:\n",
    "    def calculate_salary(self):\n",
    "        # Logic to calculate the employee's salary\n",
    "        pass\n",
    "\n",
    "\n",
    "# Class solely responsible for manager-related logic\n",
    "class Manager(Employee):\n",
    "    def assign_task(self, employee, task):\n",
    "        # Assign a task to an employee\n",
    "        pass\n",
    "\n",
    "\n",
    "# Class solely responsible for database operations\n",
    "class Database:\n",
    "    def save_to_database(self, employee):\n",
    "        # Save employee details to the database\n",
    "        pass\n",
    "\n",
    "    def ferch_from_database(self, id):\n",
    "        # Retrieve employee details from the database\n",
    "        pass"
   ]
  },
  {
   "cell_type": "markdown",
   "metadata": {},
   "source": [
    "- Open/Closed Principle (OCP)  "
   ]
  },
  {
   "cell_type": "markdown",
   "metadata": {},
   "source": [
    "Software entities (classes, modules, functions) should be open for extension, but closed for modification. This means you should be able to add new features without modifying the existing code."
   ]
  },
  {
   "cell_type": "code",
   "execution_count": null,
   "metadata": {},
   "outputs": [],
   "source": [
    "'''Bad design: Modifying the class every time a new discount type is added'''\n",
    "\n",
    "\n",
    "class DiscountCalculator:\n",
    "    def calculate(self, price, discount_type):\n",
    "        if discount_type == \"percentage\":\n",
    "            return price * 0.9\n",
    "        elif discount_type == \"fixed\":\n",
    "            return price - 10"
   ]
  },
  {
   "cell_type": "code",
   "execution_count": 10,
   "metadata": {},
   "outputs": [],
   "source": [
    "'''Good design: Add new discount types by extending the class, not modifying it'''\n",
    "\n",
    "\n",
    "class DiscountCalculator:\n",
    "    def calculate(self, price):\n",
    "        pass\n",
    "\n",
    "\n",
    "class PercentageDiscount(DiscountCalculator):\n",
    "    def calculate(self, price):\n",
    "        return price * 0.9\n",
    "\n",
    "\n",
    "class FixedDiscount(DiscountCalculator):\n",
    "    def calculate(self, price):\n",
    "        return price - 10"
   ]
  },
  {
   "cell_type": "code",
   "execution_count": null,
   "metadata": {},
   "outputs": [],
   "source": [
    "print(FixedDiscount().calculate(20))\n",
    "print(PercentageDiscount().calculate(10))"
   ]
  },
  {
   "cell_type": "markdown",
   "metadata": {},
   "source": [
    "- Liskov Substitution Principle (LSP)  "
   ]
  },
  {
   "cell_type": "markdown",
   "metadata": {},
   "source": [
    "Any class that inherits from another class should be usable in place of its parent class without causing unexpected behavior or errors. Derived classes must maintain the expected behavior of the base class to ensure the program functions correctly."
   ]
  },
  {
   "cell_type": "code",
   "execution_count": 13,
   "metadata": {},
   "outputs": [],
   "source": [
    "'''Bad design: Derived class breaks the behavior of the base class'''\n",
    "\n",
    "\n",
    "class Bird:\n",
    "    def fly(self):\n",
    "        return \"Flying\"\n",
    "\n",
    "\n",
    "class Penguin(Bird):\n",
    "    def fly(self):\n",
    "        raise Exception(\"Penguins can't fly\")"
   ]
  },
  {
   "cell_type": "code",
   "execution_count": null,
   "metadata": {},
   "outputs": [],
   "source": [
    "print(Penguin().fly())"
   ]
  },
  {
   "cell_type": "code",
   "execution_count": 20,
   "metadata": {},
   "outputs": [],
   "source": [
    "'''Good design: Better to split the behavior'''\n",
    "\n",
    "\n",
    "class Bird:\n",
    "    def move(self):\n",
    "        pass\n",
    "\n",
    "\n",
    "class FlyingBird(Bird):\n",
    "    def move(self):\n",
    "        return \"Flying\"\n",
    "    \n",
    "\n",
    "class Crow(FlyingBird):\n",
    "    def move(self):\n",
    "        return \"Flying\"\n",
    "\n",
    "\n",
    "class Penguin(Bird):\n",
    "    def move(self):\n",
    "        return \"Swimming\""
   ]
  },
  {
   "cell_type": "code",
   "execution_count": null,
   "metadata": {},
   "outputs": [],
   "source": [
    "print(FlyingBird().move())"
   ]
  },
  {
   "cell_type": "markdown",
   "metadata": {},
   "source": [
    "- Interface Segregation Principle (ISP)  "
   ]
  },
  {
   "cell_type": "markdown",
   "metadata": {},
   "source": [
    "Clients should not be forced to depend on interfaces they do not use. If an interface (or class) has too many methods, break it up into smaller, more specific interfaces."
   ]
  },
  {
   "cell_type": "code",
   "execution_count": null,
   "metadata": {},
   "outputs": [],
   "source": [
    "'''Bad design: A single large interface for all restaurant employees'''\n",
    "\n",
    "\n",
    "class RestaurantEmployee:\n",
    "    def cook(self):\n",
    "        pass\n",
    "\n",
    "    def clean(self):\n",
    "        pass\n",
    "\n",
    "    def serve_customers(self):\n",
    "        pass\n",
    "\n",
    "    def manage_accounts(self):\n",
    "        pass"
   ]
  },
  {
   "cell_type": "code",
   "execution_count": null,
   "metadata": {},
   "outputs": [],
   "source": [
    "'''Not every employee will need all these methods'''\n",
    "\n",
    "\n",
    "class Chef(RestaurantEmployee):\n",
    "    def cook(self):\n",
    "        print(\"Cooking food\")\n",
    "\n",
    "    # Unnecessary for the chef\n",
    "    def clean(self):\n",
    "        pass\n",
    "\n",
    "    def serve_customers(self):\n",
    "        pass\n",
    "\n",
    "    def manage_accounts(self):\n",
    "        pass"
   ]
  },
  {
   "cell_type": "code",
   "execution_count": null,
   "metadata": {},
   "outputs": [],
   "source": [
    "'''Good design: Split into smaller, relevant interfaces'''\n",
    "\n",
    "\n",
    "class Cook:\n",
    "    def cook(self):\n",
    "        pass\n",
    "\n",
    "\n",
    "class Cleaner:\n",
    "    def clean(self):\n",
    "        pass\n",
    "\n",
    "\n",
    "class Server:\n",
    "    def serve_customers(self):\n",
    "        pass\n",
    "\n",
    "\n",
    "class AccountManager:\n",
    "    def manage_accounts(self):\n",
    "        pass\n",
    "\n",
    "\n",
    "# Now each employee only implements the methods they actually need\n",
    "class Chef(Cook, Cleaner):\n",
    "    def cook(self):\n",
    "        print(\"Cooking food\")\n",
    "\n",
    "\n",
    "class Janitor(Cleaner):\n",
    "    def clean(self):\n",
    "        print(\"Cleaning the restaurant\")\n",
    "\n",
    "\n",
    "class Waiter(Server):\n",
    "    def serve_customers(self):\n",
    "        print(\"Serving customers\")\n",
    "\n",
    "\n",
    "class Accountant(AccountManager):\n",
    "    def manage_accounts(self):\n",
    "        print(\"Managing accounts\")"
   ]
  },
  {
   "cell_type": "markdown",
   "metadata": {},
   "source": [
    "- Dependency Inversion Principle (DIP)"
   ]
  },
  {
   "cell_type": "markdown",
   "metadata": {},
   "source": [
    "Why is it called \"Inversion\"?\n",
    "DIP suggests inverting this dependency structure so that:\n",
    "\n",
    "High-level modules no longer depend on low-level modules.  \n",
    "Both high-level and low-level modules should depend on abstractions (like interfaces or abstract classes)."
   ]
  },
  {
   "cell_type": "markdown",
   "metadata": {},
   "source": [
    "Example without DIP (Tightly Coupled Code)\n",
    "  \n",
    "In this example, the ShoppingCart class is directly dependent on specific payment methods like PayPal and CreditCard. If we want to introduce a new payment method later, we'll have to modify the ShoppingCart class, violating DIP."
   ]
  },
  {
   "cell_type": "code",
   "execution_count": null,
   "metadata": {},
   "outputs": [],
   "source": [
    "class PayPal: # Low level module\n",
    "    def make_payment(self, amount):\n",
    "        print(f\"Paying {amount} using PayPal.\")\n",
    "\n",
    "\n",
    "class CreditCard: # Low level module\n",
    "    def make_payment(self, amount):\n",
    "        print(f\"Paying {amount} using Credit Card.\")\n",
    "\n",
    "\n",
    "class ShoppingCart:  # High level module\n",
    "    def __init__(self, payment_method: str):\n",
    "        self.payment_method = payment_method\n",
    "    \n",
    "    def checkout(self, amount):\n",
    "        if self.payment_method == 'paypal':\n",
    "            paypal = PayPal()  # Directly depends on PayPal\n",
    "            paypal.make_payment(amount)\n",
    "        elif self.payment_method == 'credit_card':\n",
    "            credit_card = CreditCard()  # Directly depends on CreditCard\n",
    "            credit_card.make_payment(amount)"
   ]
  },
  {
   "cell_type": "code",
   "execution_count": null,
   "metadata": {},
   "outputs": [],
   "source": [
    "'''Usage'''\n",
    "\n",
    "\n",
    "cart = ShoppingCart('paypal')\n",
    "cart.checkout(100)"
   ]
  },
  {
   "cell_type": "markdown",
   "metadata": {},
   "source": [
    "Example with DIP (Loosely Coupled Code)"
   ]
  },
  {
   "cell_type": "code",
   "execution_count": null,
   "metadata": {},
   "outputs": [],
   "source": [
    "# Abstraction (Interface)\n",
    "class PaymentProcessor:\n",
    "    def make_payment(self, amount):\n",
    "        pass\n",
    "\n",
    "\n",
    "# Concrete implementations\n",
    "class PayPal(PaymentProcessor): # Low level module\n",
    "    def make_payment(self, amount):\n",
    "        print(f\"Paying {amount} using PayPal.\")\n",
    "\n",
    "\n",
    "class CreditCard(PaymentProcessor): # Low level module\n",
    "    def make_payment(self, amount):\n",
    "        print(f\"Paying {amount} using Credit Card.\")\n",
    "\n",
    "\n",
    "# New Payment Method\n",
    "class Bitcoin(PaymentProcessor): # Low level module\n",
    "    def make_payment(self, amount):\n",
    "        print(f\"Paying {amount} using Bitcoin.\")\n",
    "\n",
    "\n",
    "class Dogecoin(PaymentProcessor): # Low level module\n",
    "    def make_payment(self, amount):\n",
    "        print(f\"Paying {amount} using Dogecoin.\")\n",
    "\n",
    "\n",
    "# ShoppingCart now depends on the abstraction (PaymentProcessor)\n",
    "class ShoppingCart: # High level module\n",
    "    def __init__(self, payment_processor: PaymentProcessor):\n",
    "        self.payment_processor = payment_processor\n",
    "    \n",
    "    def checkout(self, amount):\n",
    "        self.payment_processor.make_payment(amount)"
   ]
  },
  {
   "cell_type": "code",
   "execution_count": null,
   "metadata": {},
   "outputs": [],
   "source": [
    "# Usage\n",
    "paypal_processor = PayPal()\n",
    "cart = ShoppingCart(paypal_processor)\n",
    "cart.checkout(100)\n",
    "\n",
    "credit_card_processor = CreditCard()\n",
    "cart = ShoppingCart(credit_card_processor)\n",
    "cart.checkout(200)\n",
    "\n",
    "# Add a new payment method without changing ShoppingCart\n",
    "bitcoin_processor = Bitcoin()\n",
    "cart = ShoppingCart(bitcoin_processor)\n",
    "cart.checkout(300)"
   ]
  },
  {
   "cell_type": "markdown",
   "metadata": {},
   "source": [
    "### 7. Avoid Magic Numbers  \n",
    "Use constants with descriptive names instead of hard-coded values or \"magic numbers\" in your code."
   ]
  },
  {
   "cell_type": "markdown",
   "metadata": {},
   "source": [
    "Example"
   ]
  },
  {
   "cell_type": "code",
   "execution_count": null,
   "metadata": {},
   "outputs": [],
   "source": [
    "'''Bad Example'''\n",
    "\n",
    "\n",
    "def calculate_discount(price):\n",
    "    return price * 0.9  # What is 0.9?"
   ]
  },
  {
   "cell_type": "code",
   "execution_count": null,
   "metadata": {},
   "outputs": [],
   "source": [
    "'''Good Example'''\n",
    "\n",
    "\n",
    "DISCOUNT_RATE = 0.1\n",
    "\n",
    "\n",
    "def calculate_discount(price):\n",
    "    return price * (1 - DISCOUNT_RATE)"
   ]
  },
  {
   "cell_type": "markdown",
   "metadata": {},
   "source": [
    "Example"
   ]
  },
  {
   "cell_type": "code",
   "execution_count": 20,
   "metadata": {},
   "outputs": [],
   "source": [
    "'''Good Example'''\n",
    "\n",
    "\n",
    "from enum import Enum\n",
    "\n",
    "# Define an Enum for different discount rates\n",
    "\n",
    "\n",
    "class DiscountType(Enum):\n",
    "    REGULAR = 0.05\n",
    "    PREMIUM = 0.2\n",
    "    VIP = 0.3\n",
    "\n",
    "# Function to calculate discount based on the discount type\n",
    "\n",
    "\n",
    "def calculate_discount(price, discount_type: DiscountType):\n",
    "    discount = discount_type.value\n",
    "    return price * (1 - discount)"
   ]
  },
  {
   "cell_type": "code",
   "execution_count": 23,
   "metadata": {},
   "outputs": [
    {
     "name": "stdout",
     "output_type": "stream",
     "text": [
      "Regular discount price: $90.0\n"
     ]
    }
   ],
   "source": [
    "# Test the function with a discount type\n",
    "\n",
    "\n",
    "regular_price = calculate_discount(100, DiscountType.REGULAR)\n",
    "print(f\"Regular discount price: ${regular_price}\")\n"
   ]
  },
  {
   "cell_type": "markdown",
   "metadata": {},
   "source": [
    "### 8. Avoid Magic String"
   ]
  },
  {
   "cell_type": "code",
   "execution_count": 17,
   "metadata": {},
   "outputs": [],
   "source": [
    "from enum import Enum\n",
    "\n",
    "# Define an enumeration for order statuses\n",
    "\n",
    "\n",
    "class OrderStatus(Enum):\n",
    "    PENDING = \"Order is Pending\"\n",
    "    SHIPPED = \"Order has been Shipped\"\n",
    "    DELIVERED = \"Order Delivered to Customer\"\n",
    "    CANCELED = \"Order was Canceled\""
   ]
  },
  {
   "cell_type": "code",
   "execution_count": 24,
   "metadata": {},
   "outputs": [],
   "source": [
    "# Function to process order based on its status\n",
    "\n",
    "\n",
    "def process_order(order_status):\n",
    "    if order_status == OrderStatus.PENDING:\n",
    "        print(order_status.value)\n",
    "        # ...\n",
    "    elif order_status == OrderStatus.SHIPPED:\n",
    "        print(order_status.value)\n",
    "        # ...\n",
    "    elif order_status == OrderStatus.DELIVERED:\n",
    "        print(order_status.value)\n",
    "    elif order_status == OrderStatus.CANCELED:\n",
    "        print(order_status.value)\n",
    "    else:\n",
    "        print(\"Unknown status\")\n"
   ]
  },
  {
   "cell_type": "code",
   "execution_count": 26,
   "metadata": {},
   "outputs": [
    {
     "name": "stdout",
     "output_type": "stream",
     "text": [
      "Order was Canceled\n"
     ]
    }
   ],
   "source": [
    "# Simulate a order status transitions\n",
    "process_order(OrderStatus.CANCELED)"
   ]
  },
  {
   "cell_type": "markdown",
   "metadata": {},
   "source": [
    "Benefits of Avoiding Magic Strings  \n",
    "- Maintainability: If the value of a role changes, you only need to update it in one place.  \n",
    "- Readability: Constants and enums give meaning to otherwise arbitrary strings, making the code more understandable.  \n",
    "- Error Reduction: Avoids the risk of typos or inconsistencies that can occur when using hardcoded strings in multiple places.  \n",
    "- Scalability: As the application grows, constants or enums can help keep the codebase organized and easy to update."
   ]
  },
  {
   "cell_type": "markdown",
   "metadata": {},
   "source": [
    "### 9. Avoid Deep Nesting"
   ]
  },
  {
   "cell_type": "code",
   "execution_count": null,
   "metadata": {},
   "outputs": [],
   "source": [
    "# Bad Example\n",
    "def process_order(order):\n",
    "    if order.is_valid():\n",
    "        if not order.is_empty():\n",
    "            if order.is_paid():\n",
    "                process(order)"
   ]
  },
  {
   "cell_type": "code",
   "execution_count": null,
   "metadata": {},
   "outputs": [],
   "source": [
    "# Good Example\n",
    "def process_order(order):\n",
    "    if not order.is_valid() or order.is_empty() or not order.is_paid():\n",
    "        return\n",
    "    process(order)"
   ]
  },
  {
   "cell_type": "markdown",
   "metadata": {},
   "source": [
    "### 10. Consistent Indentation and Formatting  \n",
    "Stick to a consistent style guide (e.g., PEP 8 in Python). This includes indentation, spacing, and bracket placement."
   ]
  }
 ],
 "metadata": {
  "kernelspec": {
   "display_name": "base",
   "language": "python",
   "name": "python3"
  },
  "language_info": {
   "codemirror_mode": {
    "name": "ipython",
    "version": 3
   },
   "file_extension": ".py",
   "mimetype": "text/x-python",
   "name": "python",
   "nbconvert_exporter": "python",
   "pygments_lexer": "ipython3",
   "version": "3.12.3"
  }
 },
 "nbformat": 4,
 "nbformat_minor": 2
}
