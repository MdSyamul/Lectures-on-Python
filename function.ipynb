{
 "cells": [
  {
   "cell_type": "markdown",
   "id": "6e34522b",
   "metadata": {},
   "source": [
    "\n",
    "## Python Functions: A Comprehensive Guide\n",
    "\n",
    "In this lecture, we'll explore Python functions from the basics to advanced topics such as recursion, lambda functions, and decorators.\n",
    "\n",
    "### Why Functions?\n",
    "Functions allow us to group a set of instructions under a name. This helps make our code more modular, reusable, and readable. Let's get started by looking at the syntax of a function.\n"
   ]
  },
  {
   "cell_type": "markdown",
   "id": "b31fa706",
   "metadata": {},
   "source": [
    "### Function Syntax"
   ]
  },
  {
   "cell_type": "code",
   "execution_count": null,
   "id": "540d709d",
   "metadata": {},
   "outputs": [],
   "source": [
    "def function_name(parameters):\n",
    "    '''Function documentation string'''\n",
    "    # Function body\n",
    "    return something"
   ]
  },
  {
   "cell_type": "markdown",
   "id": "2af2e317",
   "metadata": {},
   "source": [
    "### Basic Function"
   ]
  },
  {
   "cell_type": "code",
   "execution_count": null,
   "id": "982c9c4a",
   "metadata": {},
   "outputs": [],
   "source": [
    "# A basic function takes no parameters and returns a value.\n",
    "\n",
    "def say_hello():\n",
    "    return \"Hello, World!\""
   ]
  },
  {
   "cell_type": "code",
   "execution_count": null,
   "id": "ed326807",
   "metadata": {},
   "outputs": [],
   "source": [
    "say_hello()  # Example function call"
   ]
  },
  {
   "cell_type": "code",
   "execution_count": null,
   "id": "7dcd79b0",
   "metadata": {},
   "outputs": [],
   "source": [
    "# Example\n",
    "def greet(name):\n",
    "    '''This function greets the person passed as a parameter.'''\n",
    "    return f'Hello, {name}!'"
   ]
  },
  {
   "cell_type": "markdown",
   "id": "7193fd5f",
   "metadata": {},
   "source": [
    "### Function With Parameters"
   ]
  },
  {
   "cell_type": "code",
   "execution_count": null,
   "id": "6b149b14",
   "metadata": {},
   "outputs": [],
   "source": [
    "# A function can take arguments (parameters) to perform tasks.\n",
    "\n",
    "def add_numbers(a, b):\n",
    "    '''This function adds two numbers.'''\n",
    "    return a + b"
   ]
  },
  {
   "cell_type": "code",
   "execution_count": null,
   "id": "aa58e2b7",
   "metadata": {},
   "outputs": [],
   "source": [
    "# Example function call\n",
    "add_numbers(5, 7)"
   ]
  },
  {
   "cell_type": "markdown",
   "id": "7fd8cb12",
   "metadata": {},
   "source": [
    "### Return Value"
   ]
  },
  {
   "cell_type": "code",
   "execution_count": null,
   "id": "e6373fc9",
   "metadata": {},
   "outputs": [],
   "source": [
    "# A function can return a value using the return statement.\n",
    "\n",
    "def square(num):\n",
    "    '''This function returns the square of a number.'''\n",
    "    return num ** 2"
   ]
  },
  {
   "cell_type": "code",
   "execution_count": null,
   "id": "98b64be2",
   "metadata": {},
   "outputs": [],
   "source": [
    "# Example function call\n",
    "square(4)"
   ]
  },
  {
   "cell_type": "markdown",
   "id": "470bea90",
   "metadata": {},
   "source": [
    "### Function vs Method\n",
    "- A function is a block of code that performs a specific task.\n",
    "- A method is a function that is associated with an object.\n",
    "Functions allow you to divide your code into blocks that perform specific tasks. \n",
    "Functions can return values, take parameters, or even change the behavior of your program using concepts like recursion or decorators.\n"
   ]
  },
  {
   "cell_type": "code",
   "execution_count": null,
   "id": "ebf74d4c",
   "metadata": {},
   "outputs": [],
   "source": [
    "# Example of a function\n",
    "def add(a, b):\n",
    "    return a + b"
   ]
  },
  {
   "cell_type": "code",
   "execution_count": null,
   "id": "b31461ef",
   "metadata": {},
   "outputs": [],
   "source": [
    "# Example of a method (a function associated with an object, like a string method)\n",
    "text = \"Hello World\"\n",
    "result = text.upper()  # upper() is a method that converts text to uppercase"
   ]
  },
  {
   "cell_type": "markdown",
   "id": "feb7c154",
   "metadata": {},
   "source": [
    "### Arguments and Parameters\n",
    "A parameter is the variable listed inside the parentheses in the function definition. An argument is the value that is sent to the function when it is called.\n"
   ]
  },
  {
   "cell_type": "markdown",
   "id": "7da0c6b4",
   "metadata": {},
   "source": [
    "Types of Arguments\n",
    "1.\tPositional arguments.\n",
    "2.\tDefault argument.\n",
    "3.\tKeyword arguments (named arguments).\n",
    "4.\tArbitrary arguments (variable-length arguments *args and **kwargs).\n"
   ]
  },
  {
   "cell_type": "markdown",
   "id": "1f37f990",
   "metadata": {},
   "source": [
    "### Positional Arguments\n",
    "Values get assigned as per the sequence.\n"
   ]
  },
  {
   "cell_type": "code",
   "execution_count": null,
   "id": "98271762",
   "metadata": {},
   "outputs": [],
   "source": [
    "def greet(name, msg):\n",
    "    print(\"Hello\", name + ', ' + msg)\n",
    "\n",
    "greet(\"Bruce\", \"How do you do?\")"
   ]
  },
  {
   "cell_type": "markdown",
   "id": "696af9c9",
   "metadata": {},
   "source": [
    "### Default Parameters\n",
    "Assign default values to the argument using the ‘=’ operator at the time of function definition."
   ]
  },
  {
   "cell_type": "code",
   "execution_count": null,
   "id": "57cefc46",
   "metadata": {},
   "outputs": [],
   "source": [
    "def greet(name, msg=\"Good morning!\"):\n",
    "    print(\"Hello\", name + ', ' + msg)"
   ]
  },
  {
   "cell_type": "markdown",
   "id": "ee362e43",
   "metadata": {},
   "source": [
    "### Keyword Arguments"
   ]
  },
  {
   "cell_type": "code",
   "execution_count": null,
   "id": "e33d2089",
   "metadata": {},
   "outputs": [],
   "source": [
    "def greet(name, msg=\"Good morning!\"):\n",
    "    print(\"Hello\", name + ', ' + msg)\n",
    "\n",
    "\n",
    "\n",
    "greet( msg=\"How do you do?\", name=\"Bruce\")\n",
    "# 1 positional, 1 keyword argument\n",
    "greet(name=\"Bruce\", msg=\"How do you do?\")\n"
   ]
  },
  {
   "cell_type": "markdown",
   "id": "3908a63e",
   "metadata": {},
   "source": [
    "### Arbitrary Arguments\n",
    "If you do not know how many arguments that will be passed into your function, add a * before the parameter name in the function definition. This way the function will receive a tuple of arguments, and can access the items accordingly.\n"
   ]
  },
  {
   "cell_type": "code",
   "execution_count": null,
   "id": "f3d9ca0e",
   "metadata": {},
   "outputs": [],
   "source": [
    "def sum(*args):\n",
    "    sum = 0\n",
    "    for arg in args:\n",
    "        sum = sum + arg\n",
    "\n",
    "    return sum"
   ]
  },
  {
   "cell_type": "markdown",
   "id": "81f7e58f",
   "metadata": {},
   "source": [
    "### Arbitrary Keyword Arguments\n",
    "If you do not know how many keyword arguments that will be passed into your function, add two asterisk: ** before the parameter name in the function definition. This way the function will receive a dictionary of arguments, and can access the items accordingly:\n"
   ]
  },
  {
   "cell_type": "code",
   "execution_count": null,
   "id": "20ff0cc7",
   "metadata": {},
   "outputs": [],
   "source": [
    "def personName(**kwargs):\n",
    "    #print(kwargs.items())\n",
    "    print(kwargs.items())\n",
    "    for key, value in kwargs.items():\n",
    "        print(\"%s == %s\" %(key, value))\n",
    "personName(first='Robert', mid='', last='Greene')\n"
   ]
  },
  {
   "cell_type": "markdown",
   "id": "18d28000",
   "metadata": {},
   "source": [
    "### Docstrings"
   ]
  },
  {
   "cell_type": "code",
   "execution_count": 1,
   "id": "f584b566",
   "metadata": {},
   "outputs": [],
   "source": [
    "# Docstrings\n",
    "# Docstrings provide a way of documenting what a function does.\n",
    "\n",
    "def multiply(a, b):\n",
    "    '''This function multiplies two numbers.'''\n",
    "    return a * b"
   ]
  },
  {
   "cell_type": "code",
   "execution_count": null,
   "id": "f4df4561",
   "metadata": {},
   "outputs": [],
   "source": [
    "# Accessing docstrings\n",
    "help(multiply)"
   ]
  },
  {
   "cell_type": "markdown",
   "id": "bd257835",
   "metadata": {},
   "source": [
    "### Variable Scope"
   ]
  },
  {
   "cell_type": "code",
   "execution_count": null,
   "id": "3d20530b",
   "metadata": {},
   "outputs": [],
   "source": [
    "# Variable Scope\n",
    "# The scope of a variable defines where it can be accessed.\n",
    "\n",
    "def outer_function():\n",
    "    x = \"local\"\n",
    "    \n",
    "    def inner_function():\n",
    "        nonlocal x\n",
    "        x = \"nonlocal\"\n",
    "        print(\"Inner:\", x)\n",
    "    \n",
    "    inner_function()\n",
    "    print(\"Outer:\", x)\n",
    "\n",
    "# Example function call\n",
    "outer_function()\n"
   ]
  },
  {
   "cell_type": "markdown",
   "id": "5433689a",
   "metadata": {},
   "source": [
    "### Recursion"
   ]
  },
  {
   "cell_type": "code",
   "execution_count": 3,
   "id": "e4057ba9",
   "metadata": {},
   "outputs": [],
   "source": [
    "# Recursion is a technique where a function calls itself.\n",
    "\n",
    "def factorial(n):\n",
    "    '''This function returns the factorial of a number.'''\n",
    "    if n == 1:\n",
    "        return 1\n",
    "    else:\n",
    "        return n * factorial(n-1)"
   ]
  },
  {
   "cell_type": "code",
   "execution_count": null,
   "id": "a5b1f330",
   "metadata": {},
   "outputs": [],
   "source": [
    "# Example function call\n",
    "factorial(8)"
   ]
  },
  {
   "cell_type": "markdown",
   "id": "b83c48af",
   "metadata": {},
   "source": [
    "### Lambda Function"
   ]
  },
  {
   "cell_type": "code",
   "execution_count": 7,
   "id": "8433bcc6",
   "metadata": {},
   "outputs": [],
   "source": [
    "# A lambda function is an anonymous function expressed as a single line.\n",
    "\n",
    "# Example lambda function to double a number\n",
    "double = lambda x: x * 2"
   ]
  },
  {
   "cell_type": "code",
   "execution_count": null,
   "id": "78bd18df",
   "metadata": {},
   "outputs": [],
   "source": [
    "# Example function call\n",
    "double(6)"
   ]
  },
  {
   "cell_type": "markdown",
   "id": "b39da151",
   "metadata": {},
   "source": [
    "### Function Decorator"
   ]
  },
  {
   "cell_type": "markdown",
   "id": "9c686818",
   "metadata": {},
   "source": [
    "A decorator in Python is a function that takes another function and extends its behavior without explicitly modifying it. Decorators are a very powerful and useful tool in Python for wrapping code and adding functionality in a clean, readable manner.\n",
    "\n",
    "Decorators are commonly used for tasks like:\n",
    "- Logging\n",
    "- Timing\n",
    "- Access control\n",
    "\n",
    "Here is an example that shows how you can log information about the execution of a function."
   ]
  },
  {
   "cell_type": "code",
   "execution_count": 10,
   "id": "088e1458",
   "metadata": {},
   "outputs": [],
   "source": [
    "# A decorator allows you to modify the behavior of a function.\n",
    "\n",
    "def my_decorator(func):\n",
    "    def wrapper():\n",
    "        print(\"Something before the function.\")\n",
    "        func()\n",
    "        print(\"Something after the function.\")\n",
    "    return wrapper\n",
    "\n",
    "@my_decorator\n",
    "def say_hello():\n",
    "    print(\"Hello!\")"
   ]
  },
  {
   "cell_type": "code",
   "execution_count": 11,
   "id": "ee286247",
   "metadata": {},
   "outputs": [
    {
     "name": "stdout",
     "output_type": "stream",
     "text": [
      "Something before the function.\n",
      "Hello!\n",
      "Something after the function.\n"
     ]
    }
   ],
   "source": [
    "# Example function call\n",
    "say_hello()"
   ]
  },
  {
   "cell_type": "markdown",
   "id": "894768f3",
   "metadata": {},
   "source": [
    "### Advanced Function\n",
    "- Advanced Function: Passing Functions as Arguments\n",
    "- Functions can be passed as arguments to other functions."
   ]
  },
  {
   "cell_type": "code",
   "execution_count": null,
   "id": "e903f97d",
   "metadata": {},
   "outputs": [],
   "source": [
    "def apply_function(func, value):\n",
    "    '''This function applies another function to a value.'''\n",
    "    return func(value)\n",
    "\n",
    "# Example usage with a lambda function\n",
    "apply_function(lambda x: x ** 2, 5)\n"
   ]
  },
  {
   "cell_type": "markdown",
   "id": "72f86734",
   "metadata": {},
   "source": [
    "\n",
    "### Exercises:\n",
    "1. **Basic Function**: Write a function `is_even(n)` that returns `True` if a number is even and `False` otherwise.\n",
    "2. **Recursion**: Implement a recursive function `fibonacci(n)` that returns the nth Fibonacci number.\n",
    "3. **Lambda Function**: Write a lambda function that takes a list of numbers and returns the squares of all elements.\n",
    "4. **Function Decorators**: Create a decorator that logs the execution time of a function.\n"
   ]
  }
 ],
 "metadata": {
  "kernelspec": {
   "display_name": "base",
   "language": "python",
   "name": "python3"
  },
  "language_info": {
   "codemirror_mode": {
    "name": "ipython",
    "version": 3
   },
   "file_extension": ".py",
   "mimetype": "text/x-python",
   "name": "python",
   "nbconvert_exporter": "python",
   "pygments_lexer": "ipython3",
   "version": "3.12.3"
  }
 },
 "nbformat": 4,
 "nbformat_minor": 5
}
